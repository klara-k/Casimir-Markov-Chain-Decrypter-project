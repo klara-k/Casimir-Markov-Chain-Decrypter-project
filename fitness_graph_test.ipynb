{
 "cells": [
  {
   "cell_type": "code",
   "execution_count": 1,
   "metadata": {},
   "outputs": [],
   "source": [
    "import mkvdecoder\n",
    "\n",
    "import numpy as np"
   ]
  },
  {
   "cell_type": "markdown",
   "metadata": {},
   "source": [
    "# Shakespeare in color "
   ]
  },
  {
   "cell_type": "code",
   "execution_count": 2,
   "metadata": {},
   "outputs": [],
   "source": [
    "with open('text_data/all_shakespere.txt', 'r') as myfile:\n",
    "    shakespeare = ''\n",
    "    for line in myfile:\n",
    "        shakespeare+=line"
   ]
  },
  {
   "cell_type": "code",
   "execution_count": 3,
   "metadata": {},
   "outputs": [],
   "source": [
    "import matplotlib.pyplot as plt"
   ]
  },
  {
   "cell_type": "code",
   "execution_count": 4,
   "metadata": {},
   "outputs": [
    {
     "data": {
      "image/png": "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\n",
      "text/plain": [
       "<Figure size 432x288 with 1 Axes>"
      ]
     },
     "metadata": {},
     "output_type": "display_data"
    }
   ],
   "source": [
    "shakespeare_matrix = mkvdecoder.text_to_matrix(shakespeare, True)\n",
    "plt.imshow(shakespeare_matrix)\n",
    "plt.show()"
   ]
  },
  {
   "cell_type": "code",
   "execution_count": 5,
   "metadata": {},
   "outputs": [
    {
     "data": {
      "text/plain": [
       "1e-19"
      ]
     },
     "execution_count": 5,
     "metadata": {},
     "output_type": "execute_result"
    }
   ],
   "source": [
    "np.min(shakespeare_matrix)"
   ]
  },
  {
   "cell_type": "markdown",
   "metadata": {},
   "source": [
    "#  fitness graph (main)"
   ]
  },
  {
   "cell_type": "code",
   "execution_count": 34,
   "metadata": {},
   "outputs": [
    {
     "name": "stdout",
     "output_type": "stream",
     "text": [
      "       XIP LQEUX YCEX ZL JQWV IPWEK XIP LZFEXI\n",
      "\n",
      "               XIP UPMZWR YCEX ZL JQWV IPWEK XIP LZFEXI\n",
      "\n",
      "               XIP OQLP ZL JQWV IPWEK XIP LQLXI\n",
      "\n",
      "               XIP LQEUX YCEX ZL IPWEK XIP UQSXI\n",
      "\n",
      "               XIP UPMZWR YCEX ZL JQWV IPWEK XIP UQSXI\n",
      "\n",
      "               XIP XIQER YCEX ZL JQWV IP\n"
     ]
    },
    {
     "name": "stderr",
     "output_type": "stream",
     "text": [
      "/Users/stefanopolla/git_repositories/Casimir-Markov-Chain-Decrypter-project/mkvdecoder.py:141: RuntimeWarning: overflow encountered in double_scalars\n",
      "  f=f*(ref_matrix[i,j]**guess_matrix[i,j])\n"
     ]
    },
    {
     "name": "stdout",
     "output_type": "stream",
     "text": [
      "       XLO BTPCX KGPX NB DTSH LOSPA XLO BNJPXL\n",
      "\n",
      "               XLO COMNSF KGPX NB DTSH LOSPA XLO BNJPXL\n",
      "\n",
      "               XLO QTBO NB DTSH LOSPA XLO BTBXL\n",
      "\n",
      "               XLO BTPCX KGPX NB LOSPA XLO CTIXL\n",
      "\n",
      "               XLO COMNSF KGPX NB DTSH LOSPA XLO CTIXL\n",
      "\n",
      "               XLO XLTPF KGPX NB DTSH LO\n",
      "       FLG DBPCF KMPF AD NBST LGSPH FLG DAJPFL\n",
      "\n",
      "               FLG CGOASX KMPF AD NBST LGSPH FLG DAJPFL\n",
      "\n",
      "               FLG QBDG AD NBST LGSPH FLG DBDFL\n",
      "\n",
      "               FLG DBPCF KMPF AD LGSPH FLG CBIFL\n",
      "\n",
      "               FLG CGOASX KMPF AD NBST LGSPH FLG CBIFL\n",
      "\n",
      "               FLG FLBPX KMPF AD NBST LG\n",
      "       MLB NDPCM KFPM GN HDOT LBOPS MLB NGAPML\n",
      "\n",
      "               MLB CBJGOX KFPM GN HDOT LBOPS MLB NGAPML\n",
      "\n",
      "               MLB ZDNB GN HDOT LBOPS MLB NDNML\n",
      "\n",
      "               MLB NDPCM KFPM GN LBOPS MLB CDIML\n",
      "\n",
      "               MLB CBJGOX KFPM GN HDOT LBOPS MLB CDIML\n",
      "\n",
      "               MLB MLDPX KFPM GN HDOT LB\n",
      "       MLG BHPCM KFPM AB THSD LGSPN MLG BAOPML\n",
      "\n",
      "               MLG CGJASX KFPM AB THSD LGSPN MLG BAOPML\n",
      "\n",
      "               MLG QHBG AB THSD LGSPN MLG BHBML\n",
      "\n",
      "               MLG BHPCM KFPM AB LGSPN MLG CHIML\n",
      "\n",
      "               MLG CGJASX KFPM AB THSD LGSPN MLG CHIML\n",
      "\n",
      "               MLG MLHPX KFPM AB THSD LG\n",
      "       ULO BNPCU RFPU DB HNSG LOSPA ULO BDJPUL\n",
      "\n",
      "               ULO COMDSX RFPU DB HNSG LOSPA ULO BDJPUL\n",
      "\n",
      "               ULO QNBO DB HNSG LOSPA ULO BNBUL\n",
      "\n",
      "               ULO BNPCU RFPU DB LOSPA ULO CNIUL\n",
      "\n",
      "               ULO COMDSX RFPU DB HNSG LOSPA ULO CNIUL\n",
      "\n",
      "               ULO ULNPX RFPU DB HNSG LO\n",
      "       KLM DGPCK RFPK HD TGSB LMSPN KLM DHJPKL\n",
      "\n",
      "               KLM CMOHSX RFPK HD TGSB LMSPN KLM DHJPKL\n",
      "\n",
      "               KLM QGDM HD TGSB LMSPN KLM DGDKL\n",
      "\n",
      "               KLM DGPCK RFPK HD LMSPN KLM CGIKL\n",
      "\n",
      "               KLM CMOHSX RFPK HD TGSB LMSPN KLM CGIKL\n",
      "\n",
      "               KLM KLGPX RFPK HD TGSB LM\n",
      "       ULO GDPCU RFPU TG BDSN LOSPA ULO GTJPUL\n",
      "\n",
      "               ULO COMTSX RFPU TG BDSN LOSPA ULO GTJPUL\n",
      "\n",
      "               ULO QDGO TG BDSN LOSPA ULO GDGUL\n",
      "\n",
      "               ULO GDPCU RFPU TG LOSPA ULO CDIUL\n",
      "\n",
      "               ULO COMTSX RFPU TG BDSN LOSPA ULO CDIUL\n",
      "\n",
      "               ULO ULDPX RFPU TG BDSN LO\n",
      "       ULF TDPCU ROPU GT ADSH LFSPB ULF TGMPUL\n",
      "\n",
      "               ULF CFJGSX ROPU GT ADSH LFSPB ULF TGMPUL\n",
      "\n",
      "               ULF QDTF GT ADSH LFSPB ULF TDTUL\n",
      "\n",
      "               ULF TDPCU ROPU GT LFSPB ULF CDIUL\n",
      "\n",
      "               ULF CFJGSX ROPU GT ADSH LFSPB ULF CDIUL\n",
      "\n",
      "               ULF ULDPX ROPU GT ADSH LF\n",
      "       ULF ABPCU RHPU DA GBMS LFMPT ULF ADJPUL\n",
      "\n",
      "               ULF CFODMX RHPU DA GBMS LFMPT ULF ADJPUL\n",
      "\n",
      "               ULF QBAF DA GBMS LFMPT ULF ABAUL\n",
      "\n",
      "               ULF ABPCU RHPU DA LFMPT ULF CBIUL\n",
      "\n",
      "               ULF CFODMX RHPU DA GBMS LFMPT ULF CBIUL\n",
      "\n",
      "               ULF ULBPX RHPU DA GBMS LF\n",
      "       FLH ADPCF RJPF GA NDUS LHUPB FLH AGOPFL\n",
      "\n",
      "               FLH CHMGUX RJPF GA NDUS LHUPB FLH AGOPFL\n",
      "\n",
      "               FLH QDAH GA NDUS LHUPB FLH ADAFL\n",
      "\n",
      "               FLH ADPCF RJPF GA LHUPB FLH CDIFL\n",
      "\n",
      "               FLH CHMGUX RJPF GA NDUS LHUPB FLH CDIFL\n",
      "\n",
      "               FLH FLDPX RJPF GA NDUS LH\n",
      "       MLH BAPCM RFPM GB TAUN LHUPD MLH BGJPML\n",
      "\n",
      "               MLH CHSGUW RFPM GB TAUN LHUPD MLH BGJPML\n",
      "\n",
      "               MLH QABH GB TAUN LHUPD MLH BABML\n",
      "\n",
      "               MLH BAPCM RFPM GB LHUPD MLH CAIML\n",
      "\n",
      "               MLH CHSGUW RFPM GB TAUN LHUPD MLH CAIML\n",
      "\n",
      "               MLH MLAPW RFPM GB TAUN LH\n",
      "       ULN AHPCU RFPU DA THSB LNSPG ULN ADMPUL\n",
      "\n",
      "               ULN CNJDSX RFPU DA THSB LNSPG ULN ADMPUL\n",
      "\n",
      "               ULN QHAN DA THSB LNSPG ULN AHAUL\n",
      "\n",
      "               ULN AHPCU RFPU DA LNSPG ULN CHIUL\n",
      "\n",
      "               ULN CNJDSX RFPU DA THSB LNSPG ULN CHIUL\n",
      "\n",
      "               ULN ULHPX RFPU DA THSB LN\n",
      "       ULO DTPCU RFPU AD BTSG LOSPH ULO DAJPUL\n",
      "\n",
      "               ULO COMASX RFPU AD BTSG LOSPH ULO DAJPUL\n",
      "\n",
      "               ULO QTDO AD BTSG LOSPH ULO DTDUL\n",
      "\n",
      "               ULO DTPCU RFPU AD LOSPH ULO CTIUL\n",
      "\n",
      "               ULO COMASX RFPU AD BTSG LOSPH ULO CTIUL\n",
      "\n",
      "               ULO ULTPX RFPU AD BTSG LO\n",
      "       MLA BHPCM RFPM TB DHUN LAUPG MLA BTJPML\n",
      "\n",
      "               MLA CASTUX RFPM TB DHUN LAUPG MLA BTJPML\n",
      "\n",
      "               MLA QHBA TB DHUN LAUPG MLA BHBML\n",
      "\n",
      "               MLA BHPCM RFPM TB LAUPG MLA CHIML\n",
      "\n",
      "               MLA CASTUX RFPM TB DHUN LAUPG MLA CHIML\n",
      "\n",
      "               MLA MLHPX RFPM TB DHUN LA\n",
      "       MLB HTPCM ROPM DH ATUS LBUPN MLB HDFPML\n",
      "\n",
      "               MLB CBJDUX ROPM DH ATUS LBUPN MLB HDFPML\n",
      "\n",
      "               MLB ZTHB DH ATUS LBUPN MLB HTHML\n",
      "\n",
      "               MLB HTPCM ROPM DH LBUPN MLB CTIML\n",
      "\n",
      "               MLB CBJDUX ROPM DH ATUS LBUPN MLB CTIML\n",
      "\n",
      "               MLB MLTPX ROPM DH ATUS LB\n",
      "       SLO GAPCS RMPS BG DAUT LOUPN SLO GBFPSL\n",
      "\n",
      "               SLO COJBUX RMPS BG DAUT LOUPN SLO GBFPSL\n",
      "\n",
      "               SLO ZAGO BG DAUT LOUPN SLO GAGSL\n",
      "\n",
      "               SLO GAPCS RMPS BG LOUPN SLO CAISL\n",
      "\n",
      "               SLO COJBUX RMPS BG DAUT LOUPN SLO CAISL\n",
      "\n",
      "               SLO SLAPX RMPS BG DAUT LO\n",
      "       MLB NDPCM ROPM GN HDUS LBUPT MLB NGFPML\n",
      "\n",
      "               MLB CBJGUX ROPM GN HDUS LBUPT MLB NGFPML\n",
      "\n",
      "               MLB ZDNB GN HDUS LBUPT MLB NDNML\n",
      "\n",
      "               MLB NDPCM ROPM GN LBUPT MLB CDIML\n",
      "\n",
      "               MLB CBJGUX ROPM GN HDUS LBUPT MLB CDIML\n",
      "\n",
      "               MLB MLDPX ROPM GN HDUS LB\n",
      "       MLN DHPCM ROPM TD GHUA LNUPB MLN DTFPML\n",
      "\n",
      "               MLN CNJTUX ROPM TD GHUA LNUPB MLN DTFPML\n",
      "\n",
      "               MLN ZHDN TD GHUA LNUPB MLN DHDML\n",
      "\n",
      "               MLN DHPCM ROPM TD LNUPB MLN CHIML\n",
      "\n",
      "               MLN CNJTUX ROPM TD GHUA LNUPB MLN CHIML\n",
      "\n",
      "               MLN MLHPX ROPM TD GHUA LN\n",
      "       MLT NAPCM ROPM GN BAUS LTUPH MLT NGFPML\n",
      "\n",
      "               MLT CTJGUX ROPM GN BAUS LTUPH MLT NGFPML\n",
      "\n",
      "               MLT ZANT GN BAUS LTUPH MLT NANML\n",
      "\n",
      "               MLT NAPCM ROPM GN LTUPH MLT CAIML\n",
      "\n",
      "               MLT CTJGUX ROPM GN BAUS LTUPH MLT CAIML\n",
      "\n",
      "               MLT MLAPX ROPM GN BAUS LT\n"
     ]
    },
    {
     "name": "stderr",
     "output_type": "stream",
     "text": [
      "/Users/stefanopolla/anaconda3/lib/python3.6/site-packages/ipykernel_launcher.py:22: RuntimeWarning: divide by zero encountered in log\n"
     ]
    },
    {
     "data": {
      "image/png": "iVBORw0KGgoAAAANSUhEUgAAAYYAAAD8CAYAAABzTgP2AAAABHNCSVQICAgIfAhkiAAAAAlwSFlzAAALEgAACxIB0t1+/AAAADl0RVh0U29mdHdhcmUAbWF0cGxvdGxpYiB2ZXJzaW9uIDIuMi4yLCBodHRwOi8vbWF0cGxvdGxpYi5vcmcvhp/UCwAADsBJREFUeJzt23GonXd9x/H3x1xMUaFN2kRr0+xWWhjpBoqHFtkGnbVtOtAU7R/p/jBslfwx+8cUwUg3aqt/tN2kIrqNoEIQZusqYkBGia2FMUbtSduhmcZco9JrS42kFLpiS+Z3f9yn2/ldzu29uc+59+TW9wsO53l+v+95zveXA/nc53nOSVUhSdKr3jDtBiRJ5xaDQZLUMBgkSQ2DQZLUMBgkSQ2DQZLUMBgkSQ2DQZLUMBgkSY2ZaTewGhdddFHNzs5Ouw1J2lCOHj3666ratlzdhgyG2dlZhsPhtNuQpA0lyS9WUuelJElSw2CQJDUMBklSw2CQJDUMBklSw2CQJDUMBklSw2CQJDUMBklSw2CQJDUMBklSw2CQJDUMBklSw2CQJDUMBklSw2CQJDUMBklSw2CQJDUMBklSw2CQJDUMBklSw2CQJDUMBklSw2CQJDUmEgxJdic5nmQuyYEx85uTPNDNP5ZkdtH8ziQvJvnEJPqRJK1e72BIsgn4EnAjsAu4JcmuRWW3As9X1eXAfcA9i+bvA/61by+SpP4mccZwFTBXVSer6hXgfmDPopo9wKFu+0Hg2iQBSHITcBI4NoFeJEk9TSIYLgGeHtmf78bG1lTVGeAF4MIkbwY+Cdw5gT4kSRMwiWDImLFaYc2dwH1V9eKyb5LsTzJMMjx16tQq2pQkrcTMBI4xD1w6sr8DeGaJmvkkM8D5wGngauDmJPcCFwC/TfKbqvri4jepqoPAQYDBYLA4eCRJEzKJYHgcuCLJZcAvgb3Any+qOQzsA/4DuBl4pKoK+JNXC5J8GnhxXChIktZP72CoqjNJbgMeAjYBX62qY0nuAoZVdRj4CvC1JHMsnCns7fu+kqS1kYU/3DeWwWBQw+Fw2m1I0oaS5GhVDZar85fPkqSGwSBJahgMkqSGwSBJahgMkqSGwSBJahgMkqSGwSBJahgMkqSGwSBJahgMkqSGwSBJahgMkqSGwSBJahgMkqSGwSBJahgMkqSGwSBJahgMkqSGwSBJahgMkqSGwSBJahgMkqSGwSBJahgMkqSGwSBJahgMkqSGwSBJahgMkqSGwSBJahgMkqTGRIIhye4kx5PMJTkwZn5zkge6+ceSzHbj1yU5muQH3fN7J9GPJGn1egdDkk3Al4AbgV3ALUl2LSq7FXi+qi4H7gPu6cZ/Dby/qv4Q2Ad8rW8/kqR+JnHGcBUwV1Unq+oV4H5gz6KaPcChbvtB4Nokqaonq+qZbvwYcF6SzRPoSZK0SpMIhkuAp0f257uxsTVVdQZ4AbhwUc2HgCer6uUJ9CRJWqWZCRwjY8bqbGqSXMnC5aXrl3yTZD+wH2Dnzp1n36UkaUUmccYwD1w6sr8DeGapmiQzwPnA6W5/B/At4MNV9dOl3qSqDlbVoKoG27Ztm0DbkqRxJhEMjwNXJLksyRuBvcDhRTWHWbi5DHAz8EhVVZILgO8An6qqf59AL5KknnoHQ3fP4DbgIeBHwDeq6liSu5J8oCv7CnBhkjng48CrX2m9Dbgc+NskT3WP7X17kiStXqoW3w449w0GgxoOh9NuQ5I2lCRHq2qwXJ2/fJYkNQwGSVLDYJAkNQwGSVLDYJAkNQwGSVLDYJAkNQwGSVLDYJAkNQwGSVLDYJAkNQwGSVLDYJAkNQwGSVLDYJAkNQwGSVLDYJAkNQwGSVLDYJAkNQwGSVLDYJAkNQwGSVLDYJAkNQwGSVLDYJAkNQwGSVLDYJAkNQwGSVLDYJAkNQwGSVJjIsGQZHeS40nmkhwYM785yQPd/GNJZkfmPtWNH09ywyT6kSStXu9gSLIJ+BJwI7ALuCXJrkVltwLPV9XlwH3APd1rdwF7gSuB3cA/dMeTJE3JJM4YrgLmqupkVb0C3A/sWVSzBzjUbT8IXJsk3fj9VfVyVf0MmOuOJ0makkkEwyXA0yP7893Y2JqqOgO8AFy4wtdKktbRJIIhY8ZqhTUree3CAZL9SYZJhqdOnTrLFiVJKzWJYJgHLh3Z3wE8s1RNkhngfOD0Cl8LQFUdrKpBVQ22bds2gbYlSeNMIhgeB65IclmSN7JwM/nwoprDwL5u+2bgkaqqbnxv962ly4ArgO9PoCdJ0irN9D1AVZ1JchvwELAJ+GpVHUtyFzCsqsPAV4CvJZlj4Uxhb/faY0m+AfwXcAb4aFX9T9+eJEmrl4U/3DeWwWBQw+Fw2m1I0oaS5GhVDZar85fPkqSGwSBJahgMkqSGwSBJahgMkqSGwSBJahgMkqSGwSBJahgMkqSGwSBJahgMkqSGwSBJahgMkqSGwSBJahgMkqSGwSBJahgMkqSGwSBJahgMkqSGwSBJahgMkqSGwSBJahgMkqSGwSBJahgMkqSGwSBJahgMkqSGwSBJahgMkqSGwSBJahgMkqRGr2BIsjXJkSQnuuctS9Tt62pOJNnXjb0pyXeS/DjJsSR39+lFkjQZfc8YDgAPV9UVwMPdfiPJVuAO4GrgKuCOkQD5+6r6feBdwB8lubFnP5KknvoGwx7gULd9CLhpTM0NwJGqOl1VzwNHgN1V9VJVfQ+gql4BngB29OxHktRT32B4a1U9C9A9bx9Tcwnw9Mj+fDf2f5JcALyfhbMOSdIUzSxXkOS7wNvGTN2+wvfImLEaOf4M8HXgC1V18jX62A/sB9i5c+cK31qSdLaWDYaqet9Sc0meS3JxVT2b5GLgV2PK5oFrRvZ3AI+O7B8ETlTV55fp42BXy2AwqNeqlSStXt9LSYeBfd32PuDbY2oeAq5PsqW76Xx9N0aSzwLnA3/dsw9J0oT0DYa7geuSnACu6/ZJMkjyZYCqOg18Bni8e9xVVaeT7GDhctQu4IkkTyX5SM9+JEk9pWrjXZUZDAY1HA6n3YYkbShJjlbVYLk6f/ksSWoYDJKkhsEgSWoYDJKkhsEgSWoYDJKkhsEgSWoYDJKkhsEgSWoYDJKkhsEgSWoYDJKkhsEgSWoYDJKkhsEgSWoYDJKkhsEgSWoYDJKkhsEgSWoYDJKkhsEgSWoYDJKkhsEgSWoYDJKkhsEgSWoYDJKkhsEgSWoYDJKkhsEgSWoYDJKkRq9gSLI1yZEkJ7rnLUvU7etqTiTZN2b+cJIf9ulFkjQZfc8YDgAPV9UVwMPdfiPJVuAO4GrgKuCO0QBJ8kHgxZ59SJImpG8w7AEOdduHgJvG1NwAHKmq01X1PHAE2A2Q5C3Ax4HP9uxDkjQhfYPhrVX1LED3vH1MzSXA0yP7890YwGeAzwEv9exDkjQhM8sVJPku8LYxU7ev8D0yZqySvBO4vKo+lmR2BX3sB/YD7Ny5c4VvLUk6W8sGQ1W9b6m5JM8lubiqnk1yMfCrMWXzwDUj+zuAR4H3AO9O8vOuj+1JHq2qaxijqg4CBwEGg0Et17ckaXX6Xko6DLz6LaN9wLfH1DwEXJ9kS3fT+Xrgoar6x6p6e1XNAn8M/GSpUJAkrZ++wXA3cF2SE8B13T5JBkm+DFBVp1m4l/B497irG5MknYNStfGuygwGgxoOh9NuQ5I2lCRHq2qwXJ2/fJYkNQwGSVLDYJAkNQwGSVLDYJAkNQwGSVLDYJAkNQwGSVLDYJAkNQwGSVLDYJAkNQwGSVLDYJAkNQwGSVLDYJAkNQwGSVLDYJAkNQwGSVLDYJAkNQwGSVLDYJAkNQwGSVLDYJAkNQwGSVLDYJAkNVJV0+7hrCU5Bfxi2n2cpYuAX0+7iXXmmn83uOaN4/eqattyRRsyGDaiJMOqGky7j/Xkmn83uObXHy8lSZIaBoMkqWEwrJ+D025gClzz7wbX/DrjPQZJUsMzBklSw2CYoCRbkxxJcqJ73rJE3b6u5kSSfWPmDyf54dp33F+fNSd5U5LvJPlxkmNJ7l7f7s9Okt1JjieZS3JgzPzmJA90848lmR2Z+1Q3fjzJDevZdx+rXXOS65IcTfKD7vm96937avT5jLv5nUleTPKJ9ep5TVSVjwk9gHuBA932AeCeMTVbgZPd85Zue8vI/AeBfwZ+OO31rPWagTcBf9rVvBH4N+DGaa9piXVuAn4KvKPr9T+BXYtq/gr4p257L/BAt72rq98MXNYdZ9O017TGa34X8PZu+w+AX057PWu53pH5bwL/Anxi2uvp8/CMYbL2AIe67UPATWNqbgCOVNXpqnoeOALsBkjyFuDjwGfXoddJWfWaq+qlqvoeQFW9AjwB7FiHnlfjKmCuqk52vd7PwtpHjf5bPAhcmyTd+P1V9XJV/QyY6453rlv1mqvqyap6phs/BpyXZPO6dL16fT5jktzEwh89x9ap3zVjMEzWW6vqWYDuefuYmkuAp0f257sxgM8AnwNeWssmJ6zvmgFIcgHwfuDhNeqzr2XXMFpTVWeAF4ALV/jac1GfNY/6EPBkVb28Rn1OyqrXm+TNwCeBO9ehzzU3M+0GNpok3wXeNmbq9pUeYsxYJXkncHlVfWzxdctpW6s1jxx/Bvg68IWqOnn2Ha6L11zDMjUree25qM+aFyaTK4F7gOsn2Nda6bPeO4H7qurF7gRiQzMYzlJVvW+puSTPJbm4qp5NcjHwqzFl88A1I/s7gEeB9wDvTvJzFj6X7UkeraprmLI1XPOrDgInqurzE2h3rcwDl47s7wCeWaJmvgu784HTK3ztuajPmkmyA/gW8OGq+unat9tbn/VeDdyc5F7gAuC3SX5TVV9c+7bXwLRvcryeHsDf0d6IvXdMzVbgZyzcfN3SbW9dVDPLxrn53GvNLNxP+SbwhmmvZZl1zrBw/fgy/v/G5JWLaj5Ke2PyG932lbQ3n0+yMW4+91nzBV39h6a9jvVY76KaT7PBbz5PvYHX04OFa6sPAye651f/8xsAXx6p+0sWbkDOAX8x5jgbKRhWvWYW/iIr4EfAU93jI9Ne02us9c+An7DwzZXbu7G7gA902+ex8I2UOeD7wDtGXnt797rjnKPfvJrkmoG/Af575HN9Ctg+7fWs5Wc8cowNHwz+8lmS1PBbSZKkhsEgSWoYDJKkhsEgSWoYDJKkhsEgSWoYDJKkhsEgSWr8L4G+I6VKUcyzAAAAAElFTkSuQmCC\n",
      "text/plain": [
       "<Figure size 432x288 with 1 Axes>"
      ]
     },
     "metadata": {},
     "output_type": "display_data"
    }
   ],
   "source": [
    "cipher = mkvdecoder.random_cipher()\n",
    "cipher = np.arange(26)\n",
    "\n",
    "inverted_true_cipher = mkvdecoder.random_cipher()\n",
    "ref_matr = shakespeare_matrix\n",
    "\n",
    "#text = ('lets see if this text can be deciphered efficiently by our algorithm \\n'\n",
    "#        +'the quick brown fox jumps over the lazy dog'\n",
    "#       )\n",
    "text = shakespeare[1300:1600]\n",
    "\n",
    "enc_text = mkvdecoder.decode_text(text, inverted_true_cipher)\n",
    "#enc_text = text\n",
    "enc_matr = mkvdecoder.text_to_matrix(enc_text, False)\n",
    "\n",
    "fitness_vec=[]\n",
    "\n",
    "for j in range(100000):\n",
    "    cipher = mkvdecoder.metropolis_step(ref_matr, enc_matr, cipher)\n",
    "    fitness_vec+=[ mkvdecoder.fitness(ref_matr, mkvdecoder.decode_matrix(enc_matr,cipher) )]\n",
    "    if j%5000==0: print(mkvdecoder.decode_text(enc_text, cipher))\n",
    "plt.plot(np.log(fitness_vec))\n",
    "plt.show()"
   ]
  },
  {
   "cell_type": "code",
   "execution_count": 33,
   "metadata": {},
   "outputs": [
    {
     "data": {
      "text/plain": [
       "array([14,  6,  5,  7,  4,  0,  9, 15, 17, 22, 25,  1, 18, 11, 12, 19, 23,\n",
       "       16,  3,  2, 21, 20, 10,  8, 24, 13])"
      ]
     },
     "execution_count": 33,
     "metadata": {},
     "output_type": "execute_result"
    }
   ],
   "source": [
    "cipher"
   ]
  },
  {
   "cell_type": "code",
   "execution_count": 8,
   "metadata": {},
   "outputs": [
    {
     "data": {
      "text/plain": [
       "'TH\\n\\n               THE GECIRD LONT IV UARY HERNJ THE GAMTH\\n\\n               THE THAND LONT IV UARY HE'"
      ]
     },
     "execution_count": 8,
     "metadata": {},
     "output_type": "execute_result"
    }
   ],
   "source": [
    "mkvdecoder.decode_text(enc_text, cipher)"
   ]
  },
  {
   "cell_type": "code",
   "execution_count": 14,
   "metadata": {},
   "outputs": [
    {
     "data": {
      "text/plain": [
       "5684704"
      ]
     },
     "execution_count": 14,
     "metadata": {},
     "output_type": "execute_result"
    }
   ],
   "source": [
    "len(shakespeare)"
   ]
  },
  {
   "cell_type": "code",
<<<<<<< HEAD
   "execution_count": 17,
=======
   "execution_count": 5,
>>>>>>> c951e1df8994f940dc2e66e64a58f2d61a155982
   "metadata": {},
   "outputs": [
    {
     "data": {
      "text/plain": [
<<<<<<< HEAD
       "0.002455185001716888"
      ]
     },
     "execution_count": 17,
=======
       "array([[ 0.,  1.,  0.,  0.,  0.,  0.,  0.,  0.,  0.,  0.,  0.,  0.,  0.,\n",
       "         0.,  0.,  0.,  0.,  0.,  0.,  0.,  0.,  0.,  0.,  0.,  0.,  0.,\n",
       "         0.],\n",
       "       [ 0.,  0.,  1.,  0.,  0.,  0.,  0.,  0.,  0.,  0.,  0.,  0.,  0.,\n",
       "         0.,  0.,  0.,  0.,  0.,  0.,  0.,  0.,  0.,  0.,  0.,  0.,  0.,\n",
       "         0.],\n",
       "       [ 0.,  0.,  0.,  0.,  0.,  0.,  0.,  0.,  0.,  0.,  0.,  0.,  0.,\n",
       "         0.,  0.,  0.,  0.,  0.,  0.,  0.,  0.,  0.,  0.,  0.,  0.,  0.,\n",
       "         1.],\n",
       "       [ 0.,  0.,  0.,  0.,  0.,  0.,  0.,  0.,  0.,  0.,  0.,  0.,  0.,\n",
       "         0.,  0.,  0.,  0.,  0.,  0.,  0.,  0.,  0.,  0.,  0.,  0.,  0.,\n",
       "         1.],\n",
       "       [ 0.,  0.,  0.,  0.,  0.,  0.,  0.,  0.,  0.,  0.,  0.,  0.,  0.,\n",
       "         0.,  0.,  0.,  0.,  0.,  0.,  0.,  0.,  0.,  0.,  0.,  0.,  0.,\n",
       "         0.],\n",
       "       [ 0.,  0.,  0.,  0.,  0.,  0.,  0.,  0.,  0.,  0.,  0.,  0.,  0.,\n",
       "         0.,  0.,  0.,  0.,  0.,  0.,  0.,  0.,  0.,  0.,  0.,  0.,  0.,\n",
       "         0.],\n",
       "       [ 0.,  0.,  0.,  0.,  0.,  0.,  0.,  0.,  0.,  0.,  0.,  0.,  0.,\n",
       "         0.,  0.,  0.,  0.,  0.,  0.,  0.,  0.,  0.,  0.,  0.,  0.,  0.,\n",
       "         0.],\n",
       "       [ 0.,  0.,  0.,  0.,  0.,  0.,  0.,  0.,  0.,  0.,  0.,  0.,  0.,\n",
       "         0.,  0.,  0.,  0.,  0.,  0.,  0.,  0.,  0.,  0.,  0.,  0.,  0.,\n",
       "         0.],\n",
       "       [ 0.,  0.,  0.,  0.,  0.,  0.,  0.,  0.,  0.,  0.,  0.,  0.,  0.,\n",
       "         0.,  0.,  0.,  0.,  0.,  0.,  0.,  0.,  0.,  0.,  0.,  0.,  0.,\n",
       "         0.],\n",
       "       [ 0.,  0.,  0.,  0.,  0.,  0.,  0.,  0.,  0.,  0.,  0.,  0.,  0.,\n",
       "         0.,  0.,  0.,  0.,  0.,  0.,  0.,  0.,  0.,  0.,  0.,  0.,  0.,\n",
       "         0.],\n",
       "       [ 0.,  0.,  0.,  0.,  0.,  0.,  0.,  0.,  0.,  0.,  0.,  0.,  0.,\n",
       "         0.,  0.,  0.,  0.,  0.,  0.,  0.,  0.,  0.,  0.,  0.,  0.,  0.,\n",
       "         0.],\n",
       "       [ 0.,  0.,  0.,  0.,  0.,  0.,  0.,  0.,  0.,  0.,  0.,  0.,  0.,\n",
       "         0.,  0.,  0.,  0.,  0.,  0.,  0.,  0.,  0.,  0.,  0.,  0.,  0.,\n",
       "         0.],\n",
       "       [ 0.,  0.,  0.,  0.,  0.,  0.,  0.,  0.,  0.,  0.,  0.,  0.,  0.,\n",
       "         0.,  0.,  0.,  0.,  0.,  0.,  0.,  0.,  0.,  0.,  0.,  0.,  0.,\n",
       "         0.],\n",
       "       [ 0.,  0.,  0.,  0.,  0.,  0.,  0.,  0.,  0.,  0.,  0.,  0.,  0.,\n",
       "         0.,  0.,  0.,  0.,  0.,  0.,  0.,  0.,  0.,  0.,  0.,  0.,  0.,\n",
       "         0.],\n",
       "       [ 0.,  0.,  0.,  0.,  0.,  0.,  0.,  0.,  0.,  0.,  0.,  0.,  0.,\n",
       "         0.,  0.,  0.,  0.,  0.,  0.,  0.,  0.,  0.,  0.,  0.,  0.,  0.,\n",
       "         0.],\n",
       "       [ 0.,  0.,  0.,  0.,  0.,  0.,  0.,  0.,  0.,  0.,  0.,  0.,  0.,\n",
       "         0.,  0.,  0.,  0.,  0.,  0.,  0.,  0.,  0.,  0.,  0.,  0.,  0.,\n",
       "         0.],\n",
       "       [ 0.,  0.,  0.,  0.,  0.,  0.,  0.,  0.,  0.,  0.,  0.,  0.,  0.,\n",
       "         0.,  0.,  0.,  0.,  0.,  0.,  0.,  0.,  0.,  0.,  0.,  0.,  0.,\n",
       "         0.],\n",
       "       [ 0.,  0.,  0.,  0.,  0.,  0.,  0.,  0.,  0.,  0.,  0.,  0.,  0.,\n",
       "         0.,  0.,  0.,  0.,  0.,  0.,  0.,  0.,  0.,  0.,  0.,  0.,  0.,\n",
       "         0.],\n",
       "       [ 0.,  0.,  0.,  0.,  0.,  0.,  0.,  0.,  0.,  0.,  0.,  0.,  0.,\n",
       "         0.,  0.,  0.,  0.,  0.,  0.,  0.,  0.,  0.,  0.,  0.,  0.,  0.,\n",
       "         0.],\n",
       "       [ 0.,  0.,  0.,  0.,  0.,  0.,  0.,  0.,  0.,  0.,  0.,  0.,  0.,\n",
       "         0.,  0.,  0.,  0.,  0.,  0.,  0.,  0.,  0.,  0.,  0.,  0.,  0.,\n",
       "         0.],\n",
       "       [ 0.,  0.,  0.,  0.,  0.,  0.,  0.,  0.,  0.,  0.,  0.,  0.,  0.,\n",
       "         0.,  0.,  0.,  0.,  0.,  0.,  0.,  0.,  0.,  0.,  0.,  0.,  0.,\n",
       "         0.],\n",
       "       [ 0.,  0.,  0.,  0.,  0.,  0.,  0.,  0.,  0.,  0.,  0.,  0.,  0.,\n",
       "         0.,  0.,  0.,  0.,  0.,  0.,  0.,  0.,  0.,  0.,  0.,  0.,  0.,\n",
       "         0.],\n",
       "       [ 0.,  0.,  0.,  0.,  0.,  0.,  0.,  0.,  0.,  0.,  0.,  0.,  0.,\n",
       "         0.,  0.,  0.,  0.,  0.,  0.,  0.,  0.,  0.,  0.,  0.,  0.,  0.,\n",
       "         0.],\n",
       "       [ 0.,  0.,  0.,  0.,  0.,  0.,  0.,  0.,  0.,  0.,  0.,  0.,  0.,\n",
       "         0.,  0.,  0.,  0.,  0.,  0.,  0.,  0.,  0.,  0.,  0.,  0.,  0.,\n",
       "         0.],\n",
       "       [ 0.,  0.,  0.,  0.,  0.,  0.,  0.,  0.,  0.,  0.,  0.,  0.,  0.,\n",
       "         0.,  0.,  0.,  0.,  0.,  0.,  0.,  0.,  0.,  0.,  0.,  0.,  0.,\n",
       "         0.],\n",
       "       [ 0.,  0.,  0.,  0.,  0.,  0.,  0.,  0.,  0.,  0.,  0.,  0.,  0.,\n",
       "         0.,  0.,  0.,  0.,  0.,  0.,  0.,  0.,  0.,  0.,  0.,  0.,  0.,\n",
       "         0.],\n",
       "       [ 0.,  0.,  0.,  1.,  0.,  0.,  0.,  0.,  0.,  0.,  0.,  0.,  0.,\n",
       "         0.,  0.,  0.,  0.,  0.,  0.,  0.,  0.,  0.,  0.,  0.,  0.,  0.,\n",
       "         0.]])"
      ]
     },
     "execution_count": 5,
>>>>>>> c951e1df8994f940dc2e66e64a58f2d61a155982
     "metadata": {},
     "output_type": "execute_result"
    }
   ],
   "source": [
<<<<<<< HEAD
    "counter = 0 \n",
    "for i in range(1,len(shakespeare)-1):\n",
    "    if shakespeare[i]=='a' and not(shakespeare[i-1].isalpha()) and not(shakespeare[i+1].isalpha()):\n",
    "        counter+=1\n",
    "counter/len(shakespeare)"
=======
    "mkvdecoder.text_to_matrix('ABC D ', False)"
>>>>>>> c951e1df8994f940dc2e66e64a58f2d61a155982
   ]
  },
  {
   "cell_type": "code",
   "execution_count": 22,
   "metadata": {},
   "outputs": [
    {
     "data": {
      "text/plain": [
       "0.018364544574352507"
      ]
     },
     "execution_count": 22,
     "metadata": {},
     "output_type": "execute_result"
    }
   ],
   "source": [
    "counter = 0 \n",
    "for i in range(1,len(shakespeare)-1):\n",
    "    if shakespeare[i]=='s' and not(shakespeare[i+1].isalpha()):\n",
    "        counter+=1\n",
    "counter/len(shakespeare)"
   ]
  },
  {
   "cell_type": "code",
   "execution_count": null,
   "metadata": {},
   "outputs": [],
   "source": []
  },
  {
   "cell_type": "code",
   "execution_count": null,
   "metadata": {},
   "outputs": [],
   "source": []
  },
  {
   "cell_type": "code",
   "execution_count": null,
   "metadata": {},
   "outputs": [],
   "source": []
  }
 ],
 "metadata": {
  "kernelspec": {
   "display_name": "Python 3",
   "language": "python",
   "name": "python3"
  },
  "language_info": {
   "codemirror_mode": {
    "name": "ipython",
    "version": 3
   },
   "file_extension": ".py",
   "mimetype": "text/x-python",
   "name": "python",
   "nbconvert_exporter": "python",
   "pygments_lexer": "ipython3",
   "version": "3.6.6"
  }
 },
 "nbformat": 4,
 "nbformat_minor": 2
}
