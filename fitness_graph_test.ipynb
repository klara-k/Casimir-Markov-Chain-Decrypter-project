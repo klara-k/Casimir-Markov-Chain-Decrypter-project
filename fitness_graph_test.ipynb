{
 "cells": [
  {
   "cell_type": "code",
   "execution_count": 1,
   "metadata": {},
   "outputs": [],
   "source": [
    "import mkvdecoder\n",
    "import numpy as np"
   ]
  },
  {
   "cell_type": "markdown",
   "metadata": {},
   "source": [
    "# Shakespeare in color "
   ]
  },
  {
   "cell_type": "code",
   "execution_count": 2,
   "metadata": {},
   "outputs": [],
   "source": [
    "with open('text_data/all_shakespere.txt', 'r') as myfile:\n",
    "    shakespeare = ''\n",
    "    for line in myfile:\n",
    "        shakespeare+=line"
   ]
  },
  {
   "cell_type": "code",
   "execution_count": 3,
   "metadata": {},
   "outputs": [],
   "source": [
    "import matplotlib.pyplot as plt"
   ]
  },
  {
   "cell_type": "code",
   "execution_count": 4,
   "metadata": {},
   "outputs": [
    {
     "data": {
      "image/png": "[encoded data removed]",
      "text/plain": [
       "<Figure size 432x288 with 1 Axes>"
      ]
     },
     "metadata": {},
     "output_type": "display_data"
    }
   ],
   "source": [
    "shakespeare_matrix = mkvdecoder.text_to_matrix(shakespeare, True)\n",
    "plt.imshow(shakespeare_matrix)\n",
    "plt.show()"
   ]
  },
  {
   "cell_type": "markdown",
   "metadata": {},
   "source": [
    "#  fitness graph (main)"
   ]
  },
  {
   "cell_type": "code",
   "execution_count": 5,
   "metadata": {},
   "outputs": [
    {
     "name": "stdout",
     "output_type": "stream",
     "text": [
      "gjvu ujj dx vzdu vjkv yqt oj ajydszjmja jxxdydjtvgn on hem qglhmdvzi \n",
      "vzj bedyp omhwt xhk reisu hfjm vzj gqcn ahl\n",
      "qgnv vgg tl nytv nghn fpi og ugftkygxgu glltftginqj oj cex pqacxtnyd \n",
      "nyg metfb oxczi lch redkv csgx nyg qpwj uca\n",
      "cbgz zbb te gwtz gbxg vpi mb ubvtowbybu beetvtbigcj mj qly pcaqytgwd \n",
      "gwb kltvn myqhi eqx rldoz qsby gwb cpfj uqa\n",
      "cbgy ybb te ghty gbxg rpi ob ubrtvhbmbu beetrtbigcj oj qlm pcaqmtghd \n",
      "ghb kltrn omqzi eqx wldvy qsbm ghb cpfj uqa\n",
      "cngy ynn te gqty gnxg rpi hn unrtoqnvnu neetrtnigcj hj mlv pcamvtgqd \n",
      "gqn kltrb hvmwi emx zldoy msnv gqn cpfj uma\n",
      "cegw wee tb gqtw gexg rpz he uertoqeveu ebbtrtezgcj hj isv pcaivtgqd \n",
      "gqe kstrn hviyz bix msdow ilev gqe cpfj uia\n",
      "cesm mee tb swtm sexs rpz le uertowekeu ebbtrtezscj lj qhk pcaqktswd \n",
      "swe ghtrn lkqyz bqx vhdom qiek swe cpfj uqa\n",
      "cesz zee tb shtz sexs fpv le ueftohekeu ebbtftevscj lj qwk pcaqktshd \n",
      "she gwtfn lkqyv bqx mwdoz qiek she cprj uqa\n",
      "cesq qee tb sztq sems fpv ie ueftozekeu ebbtftevscj ij hwk pcahktszd \n",
      "sze gwtfn ikhyv bhm xwdoq hlek sze cprj uha\n",
      "cesx xee tb sztx sems fpy le ueftozekeu ebbtfteyscj lj hwk pcahktszd \n",
      "sze gwtfn lkhvy bhm qwdox hiek sze cprj uha\n"
     ]
    },
    {
     "data": {
      "image/png": "[encoded data removed]",
      "text/plain": [
       "<Figure size 432x288 with 1 Axes>"
      ]
     },
     "metadata": {},
     "output_type": "display_data"
    }
   ],
   "source": [
    "cipher = mkvdecoder.random_cipher()\n",
    "inverted_true_cipher = mkvdecoder.random_cipher()\n",
    "ref_matr = shakespeare_matrix\n",
    "text = ('lets see if this text can be deciphered efficiently by our algorithm \\n'\n",
    "        +'the quick brown fox jumps over the lazy dog')\n",
    "#text = shakespeare[1000:2000]\n",
    "enc_text = mkvdecoder.decode_text(text, inverted_true_cipher)\n",
    "enc_matr = mkvdecoder.text_to_matrix(enc_text, False)\n",
    "\n",
    "fitness_vec=[]\n",
    "\n",
    "for j in range(1000):\n",
    "    cipher = mkvdecoder.metropolis_step(ref_matr, enc_matr, cipher)\n",
    "    fitness_vec+=[ mkvdecoder.fitness(ref_matr, mkvdecoder.decode_matrix(enc_matr,cipher) )]\n",
    "    if j%100==0: print(mkvdecoder.decode_text(enc_text, cipher))\n",
    "plt.plot(np.log(fitness_vec))\n",
    "plt.show()"
   ]
  },
  {
   "cell_type": "code",
   "execution_count": 6,
   "metadata": {},
   "outputs": [
    {
     "data": {
      "text/plain": [
       "array([13,  7,  3, 22,  4, 16, 10, 11, 20,  5,  2, 14, 23, 15,  1, 25,  0,\n",
       "        6,  9, 19, 18, 21, 24, 17,  8, 12])"
      ]
     },
     "execution_count": 6,
     "metadata": {},
     "output_type": "execute_result"
    }
   ],
   "source": [
    "cipher"
   ]
  },
  {
   "cell_type": "code",
   "execution_count": 7,
   "metadata": {},
   "outputs": [
    {
     "data": {
      "text/plain": [
       "'cesx xee tb sztx sems fpy le ueftozekeu ebbtfteyscj lj hwk pcahktszd \\nsze gwtfn lkhvy bhm qwdox hiek sze cprj uha'"
      ]
     },
     "execution_count": 7,
     "metadata": {},
     "output_type": "execute_result"
    }
   ],
   "source": [
    "mkvdecoder.decode_text(enc_text, cipher)"
   ]
  }
 ],
 "metadata": {
  "kernelspec": {
   "display_name": "Python 3",
   "language": "python",
   "name": "python3"
  },
  "language_info": {
   "codemirror_mode": {
    "name": "ipython",
    "version": 3
   },
   "file_extension": ".py",
   "mimetype": "text/x-python",
   "name": "python",
   "nbconvert_exporter": "python",
   "pygments_lexer": "ipython3",
   "version": "3.6.5"
  }
 },
 "nbformat": 4,
 "nbformat_minor": 2
}
