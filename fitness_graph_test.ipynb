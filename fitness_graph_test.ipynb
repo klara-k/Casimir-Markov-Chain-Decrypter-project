{
 "cells": [
  {
   "cell_type": "code",
   "execution_count": 1,
   "metadata": {},
   "outputs": [],
   "source": [
    "import mkvdecoder\n",
    "import numpy as np"
   ]
  },
  {
   "cell_type": "markdown",
   "metadata": {},
   "source": [
    "# Shakespeare in color "
   ]
  },
  {
   "cell_type": "code",
   "execution_count": 4,
   "metadata": {},
   "outputs": [],
   "source": [
    "with open('text_data/all_shakespere.txt', 'r') as myfile:\n",
    "    shakespeare = ''\n",
    "    for line in myfile:\n",
    "        shakespeare+=line"
   ]
  },
  {
   "cell_type": "code",
   "execution_count": 5,
   "metadata": {},
   "outputs": [],
   "source": [
    "import matplotlib.pyplot as plt"
   ]
  },
  {
   "cell_type": "code",
   "execution_count": 6,
   "metadata": {},
   "outputs": [
    {
     "data": {
      "image/png": "[encoded data removed]",
      "text/plain": [
       "<Figure size 432x288 with 1 Axes>"
      ]
     },
     "metadata": {},
     "output_type": "display_data"
    }
   ],
   "source": [
    "shakespeare_matrix = mkvdecoder.text_to_matrix(shakespeare, True)\n",
    "plt.imshow(shakespeare_matrix)\n",
    "plt.show()"
   ]
  },
  {
   "cell_type": "markdown",
   "metadata": {},
   "source": [
    "#  fitness graph (main)"
   ]
  },
  {
   "cell_type": "code",
   "execution_count": 15,
   "metadata": {},
   "outputs": [
    {
     "name": "stderr",
     "output_type": "stream",
     "text": [
      "/Users/stefanopolla/git_repositories/Casimir-Markov-Chain-Decrypter-project/mkvdecoder.py:128: RuntimeWarning: invalid value encountered in double_scalars\n",
      "  weight_for_transition=1/((fitness_value/fitness_value_try)+1)\n",
      "/Users/stefanopolla/git_repositories/Casimir-Markov-Chain-Decrypter-project/mkvdecoder.py:128: RuntimeWarning: divide by zero encountered in double_scalars\n",
      "  weight_for_transition=1/((fitness_value/fitness_value_try)+1)\n"
     ]
    },
    {
     "data": {
      "image/png": "[encoded data removed]",
      "text/plain": [
       "<Figure size 432x288 with 1 Axes>"
      ]
     },
     "metadata": {},
     "output_type": "display_data"
    }
   ],
   "source": [
    "cipher = mkvdecoder.random_cipher()\n",
    "inverted_true_cipher = mkvdecoder.random_cipher()\n",
    "ref_matr = shakespeare_matrix\n",
    "text = ('lets see if this text can be deciphered efficiently by our algorithm \\n'\n",
    "        +'the quick brown fox jumps over the lazy dog')\n",
    "#text = shakespeare[1000:2000]\n",
    "enc_text = mkvdecoder.decode_text(text, inverted_true_cipher)\n",
    "enc_matr = mkvdecoder.text_to_matrix(enc_text, False)\n",
    "\n",
    "fitness_vec=[]\n",
    "\n",
    "for _ in range(10000):\n",
    "    cipher = mkvdecoder.metropolis_step(ref_matr, enc_matr, cipher)\n",
    "    fitness_vec+=[ mkvdecoder.fitness(ref_matr, mkvdecoder.decode_matrix(enc_matr,cipher) ) ]\n",
    "\n",
    "plt.plot(fitness_vec)\n",
    "plt.show()"
   ]
  },
  {
   "cell_type": "code",
   "execution_count": 15,
   "metadata": {},
   "outputs": [
    {
     "data": {
      "text/plain": [
       "array([25, 19, 16,  8, 13, 15, 23,  7, 14, 24,  5,  6, 12, 21,  2, 17, 20,\n",
       "        9,  1, 18, 22,  3, 11,  4, 10,  0])"
      ]
     },
     "execution_count": 15,
     "metadata": {},
     "output_type": "execute_result"
    }
   ],
   "source": [
    "cipher"
   ]
  },
  {
   "cell_type": "code",
   "execution_count": 12,
   "metadata": {},
   "outputs": [
    {
     "data": {
      "text/plain": [
       "0.0"
      ]
     },
     "execution_count": 12,
     "metadata": {},
     "output_type": "execute_result"
    }
   ],
   "source": [
    "np.exp(\n",
    "    np.trace(\n",
    "        np.transpose(enc_matr) @ ( np.log(ref_matr+0.000000000000001) ) \n",
    "    ) \n",
    ")"
   ]
  },
  {
   "cell_type": "code",
   "execution_count": 13,
   "metadata": {},
   "outputs": [
    {
     "data": {
      "text/plain": [
       "-23527.798973259672"
      ]
     },
     "execution_count": 13,
     "metadata": {},
     "output_type": "execute_result"
    }
   ],
   "source": [
    "np.trace(\n",
    "        np.transpose(enc_matr) @ ( np.log(ref_matr+0.000000000000001) ) \n",
    "    )"
   ]
  },
  {
   "cell_type": "code",
   "execution_count": 10,
   "metadata": {},
   "outputs": [
    {
     "data": {
      "text/plain": [
       "1.0"
      ]
     },
     "execution_count": 10,
     "metadata": {},
     "output_type": "execute_result"
    }
   ],
   "source": [
    "np.sum(ref_matr)"
   ]
  },
  {
   "cell_type": "code",
   "execution_count": 19,
   "metadata": {},
   "outputs": [
    {
     "data": {
      "text/plain": [
       "0.03922736168454499"
      ]
     },
     "execution_count": 19,
     "metadata": {},
     "output_type": "execute_result"
    }
   ],
   "source": [
    "np.max(ref_matr)"
   ]
  }
 ],
 "metadata": {
  "kernelspec": {
   "display_name": "Python 3",
   "language": "python",
   "name": "python3"
  },
  "language_info": {
   "codemirror_mode": {
    "name": "ipython",
    "version": 3
   },
   "file_extension": ".py",
   "mimetype": "text/x-python",
   "name": "python",
   "nbconvert_exporter": "python",
   "pygments_lexer": "ipython3",
   "version": "3.6.5"
  }
 },
 "nbformat": 4,
 "nbformat_minor": 2
}
