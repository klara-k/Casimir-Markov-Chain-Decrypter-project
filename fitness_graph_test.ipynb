{
 "cells": [
  {
   "cell_type": "code",
   "execution_count": 1,
   "metadata": {},
   "outputs": [],
   "source": [
    "import mkvdecoder\n",
    "\n",
    "import numpy as np"
   ]
  },
  {
   "cell_type": "markdown",
   "metadata": {},
   "source": [
    "# Shakespeare in color "
   ]
  },
  {
   "cell_type": "code",
   "execution_count": 2,
   "metadata": {},
   "outputs": [],
   "source": [
    "with open('text_data/all_shakespere.txt', 'r') as myfile:\n",
    "    shakespeare = ''\n",
    "    for line in myfile:\n",
    "        shakespeare+=line"
   ]
  },
  {
   "cell_type": "code",
   "execution_count": 3,
   "metadata": {},
   "outputs": [],
   "source": [
    "import matplotlib.pyplot as plt"
   ]
  },
  {
   "cell_type": "code",
   "execution_count": 4,
   "metadata": {},
   "outputs": [
    {
     "data": {
      "image/png": "[encoded data removed]",
      "text/plain": [
       "<Figure size 432x288 with 1 Axes>"
      ]
     },
     "metadata": {},
     "output_type": "display_data"
    }
   ],
   "source": [
    "shakespeare_matrix = mkvdecoder.text_to_matrix(shakespeare, True)\n",
    "plt.imshow(shakespeare_matrix)\n",
    "plt.show()"
   ]
  },
  {
   "cell_type": "code",
   "execution_count": 5,
   "metadata": {},
   "outputs": [
    {
     "data": {
      "text/plain": [
       "1e-19"
      ]
     },
     "execution_count": 5,
     "metadata": {},
     "output_type": "execute_result"
    }
   ],
   "source": [
    "np.min(shakespeare_matrix)"
   ]
  },
  {
   "cell_type": "markdown",
   "metadata": {},
   "source": [
    "#  fitness graph (main)"
   ]
  },
  {
   "cell_type": "code",
   "execution_count": 8,
   "metadata": {},
   "outputs": [
    {
     "name": "stdout",
     "output_type": "stream",
     "text": [
      "QA\n",
      "\n",
      "               QAU PURVZW GXYQ VD TSZO AUZYB QAU PSJQA\n",
      "\n",
      "               QAU QASYW GXYQ VD TSZO AU\n",
      "CS\n",
      "\n",
      "               CSD HDUENG MYRC EO KWNV SDNRI CSD HWFCS\n",
      "\n",
      "               CSD CSWRG MYRC EO KWNV SD\n",
      "MS\n",
      "\n",
      "               MSD FDUHCE KYRM HO IWCV SDCRP MSD FWLMS\n",
      "\n",
      "               MSD MSWRE KYRM HO IWCV SD\n",
      "FS\n",
      "\n",
      "               FSH MHULCG JYWF LO KBCV SHCWP FSH MBEFS\n",
      "\n",
      "               FSH FSBWG JYWF LO KBCV SH\n",
      "LS\n",
      "\n",
      "               LSD FDUICG EYBL IO MWCV SDCBH LSD FWKLS\n",
      "\n",
      "               LSD LSWBG EYBL IO MWCV SD\n",
      "CS\n",
      "\n",
      "               CST ETUKIX JYWC KO NDIB STIWG CST EDFCS\n",
      "\n",
      "               CST CSDWX JYWC KO NDIB ST\n",
      "FS\n",
      "\n",
      "               FSB NBUCKI LYWF CO MDKT SBKWP FSB NDHFS\n",
      "\n",
      "               FSB FSDWI LYWF CO MDKT SB\n",
      "IS\n",
      "\n",
      "               ISD LDUKFG RYBI KO NWFV SDFBE ISD LWCIS\n",
      "\n",
      "               ISD ISWBG RYBI KO NWFV SD\n",
      "NS\n",
      "\n",
      "               NSD HDUECG IYRN EO LWCV SDCRP NSD HWKNS\n",
      "\n",
      "               NSD NSWRG IYRN EO LWCV SD\n",
      "IT\n",
      "\n",
      "               ITS KSUNCG FYWI NO LDCX TSCWP ITS KDMIT\n",
      "\n",
      "               ITS ITDWG FYWI NO LDCX TS\n",
      "NS\n",
      "\n",
      "               NSE PEUFLC JYWN FO IDLT SELWK NSE PDMNS\n",
      "\n",
      "               NSE NSDWC JYWN FO IDLT SE\n",
      "IS\n",
      "\n",
      "               ISF LFUNCW JYBI NO KDCT SFCBP ISF LDMIS\n",
      "\n",
      "               ISF ISDBW JYBI NO KDCT SF\n",
      "NS\n",
      "\n",
      "               NST ETUCIJ HYWN CO LDIG STIWF NST EDMNS\n",
      "\n",
      "               NST NSDWJ HYWN CO LDIG ST\n",
      "NS\n",
      "\n",
      "               NST ITULMR HYWN LO CDMG STMWE NST IDFNS\n",
      "\n",
      "               NST NSDWR HYWN LO CDMG ST\n",
      "HS\n",
      "\n",
      "               HST ETUIKF JYBH IO MDKW STKBG HST EDLHS\n",
      "\n",
      "               HST HSDBF JYBH IO MDKW ST\n",
      "CS\n",
      "\n",
      "               CST HTULEI BYWC LO KDEG STEWN CST HDMCS\n",
      "\n",
      "               CST CSDWI BYWC LO KDEG ST\n",
      "FS\n",
      "\n",
      "               FST PTURNH KYBF RO MDNG STNBL FST PDCFS\n",
      "\n",
      "               FST FSDBH KYBF RO MDNG ST\n",
      "KS\n",
      "\n",
      "               KST LTUIHJ CYBK IO MDHW STHBG KST LDEKS\n",
      "\n",
      "               KST KSDBJ CYBK IO MDHW ST\n",
      "IV\n",
      "\n",
      "               IVH JHULEG DYWI LO KBES VHEWR IVH JBFIV\n",
      "\n",
      "               IVH IVBWG DYWI LO KBES VH\n",
      "ES\n",
      "\n",
      "               EST HTUMNJ LYBE MO KDNW STNBG EST HDFES\n",
      "\n",
      "               EST ESDBJ LYBE MO KDNW ST\n"
     ]
    },
    {
     "data": {
      "image/png": "[encoded data removed]",
      "text/plain": [
       "<Figure size 432x288 with 1 Axes>"
      ]
     },
     "metadata": {},
     "output_type": "display_data"
    }
   ],
   "source": [
    "cipher = mkvdecoder.random_cipher()\n",
    "cipher = np.arange(26)\n",
    "\n",
    "inverted_true_cipher = mkvdecoder.random_cipher()\n",
    "ref_matr = shakespeare_matrix\n",
    "\n",
    "#text = ('lets see if this text can be deciphered efficiently by our algorithm \\n'\n",
    "#        +'the quick brown fox jumps over the lazy dog'\n",
    "#       )\n",
    "text = shakespeare[1500:1600]\n",
    "\n",
    "enc_text = mkvdecoder.decode_text(text, inverted_true_cipher)\n",
    "#enc_text = text\n",
    "enc_matr = mkvdecoder.text_to_matrix(enc_text, False)\n",
    "\n",
    "fitness_vec=[]\n",
    "\n",
    "for j in range(100000):\n",
    "    oldcipher=cipher\n",
    "    cipher = mkvdecoder.metropolis_step(ref_matr, enc_matr, cipher)\n",
    "    fitness_vec+=[ mkvdecoder.fitness_ratio(ref_matr, mkvdecoder.decode_matrix(enc_matr,cipher), \n",
    "                                            mkvdecoder.decode_matrix(enc_matr,oldcipher) )]\n",
    "    if j%5000==0: print(mkvdecoder.decode_text(enc_text, cipher))\n",
    "plt.plot(np.log(fitness_vec))\n",
    "plt.show()"
   ]
  },
  {
   "cell_type": "code",
   "execution_count": 33,
   "metadata": {},
   "outputs": [
    {
     "data": {
      "text/plain": [
       "array([14,  6,  5,  7,  4,  0,  9, 15, 17, 22, 25,  1, 18, 11, 12, 19, 23,\n",
       "       16,  3,  2, 21, 20, 10,  8, 24, 13])"
      ]
     },
     "execution_count": 33,
     "metadata": {},
     "output_type": "execute_result"
    }
   ],
   "source": [
    "cipher"
   ]
  },
  {
   "cell_type": "code",
   "execution_count": 8,
   "metadata": {},
   "outputs": [
    {
     "data": {
      "text/plain": [
       "'TH\\n\\n               THE GECIRD LONT IV UARY HERNJ THE GAMTH\\n\\n               THE THAND LONT IV UARY HE'"
      ]
     },
     "execution_count": 8,
     "metadata": {},
     "output_type": "execute_result"
    }
   ],
   "source": [
    "mkvdecoder.decode_text(enc_text, cipher)"
   ]
  },
  {
   "cell_type": "code",
   "execution_count": 14,
   "metadata": {},
   "outputs": [
    {
     "data": {
      "text/plain": [
       "5684704"
      ]
     },
     "execution_count": 14,
     "metadata": {},
     "output_type": "execute_result"
    }
   ],
   "source": [
    "len(shakespeare)"
   ]
  },
  {
   "cell_type": "code",
   "execution_count": 17,
   "metadata": {},
   "outputs": [
    {
     "data": {
      "text/plain": [
       "0.002455185001716888"
      ]
     },
     "execution_count": 17,
     "metadata": {},
     "output_type": "execute_result"
    }
   ],
   "source": [
    "counter = 0 \n",
    "for i in range(1,len(shakespeare)-1):\n",
    "    if shakespeare[i]=='a' and not(shakespeare[i-1].isalpha()) and not(shakespeare[i+1].isalpha()):\n",
    "        counter+=1\n",
    "counter/len(shakespeare)"
   ]
  },
  {
   "cell_type": "code",
   "execution_count": 22,
   "metadata": {},
   "outputs": [
    {
     "data": {
      "text/plain": [
       "0.018364544574352507"
      ]
     },
     "execution_count": 22,
     "metadata": {},
     "output_type": "execute_result"
    }
   ],
   "source": [
    "counter = 0 \n",
    "for i in range(1,len(shakespeare)-1):\n",
    "    if shakespeare[i]=='s' and not(shakespeare[i+1].isalpha()):\n",
    "        counter+=1\n",
    "counter/len(shakespeare)"
   ]
  },
  {
   "cell_type": "code",
   "execution_count": 9,
   "metadata": {},
   "outputs": [
    {
     "ename": "AttributeError",
     "evalue": "module 'numpy' has no attribute 'factorial'",
     "output_type": "error",
     "traceback": [
      "\u001b[0;31m---------------------------------------------------------------------------\u001b[0m",
      "\u001b[0;31mAttributeError\u001b[0m                            Traceback (most recent call last)",
      "\u001b[0;32m<ipython-input-9-af06a31ac20f>\u001b[0m in \u001b[0;36m<module>\u001b[0;34m()\u001b[0m\n\u001b[0;32m----> 1\u001b[0;31m \u001b[0mnp\u001b[0m\u001b[0;34m.\u001b[0m\u001b[0mfactorial\u001b[0m\u001b[0;34m\u001b[0m\u001b[0m\n\u001b[0m",
      "\u001b[0;31mAttributeError\u001b[0m: module 'numpy' has no attribute 'factorial'"
     ]
    }
   ],
   "source": []
  },
  {
   "cell_type": "code",
   "execution_count": null,
   "metadata": {},
   "outputs": [],
   "source": []
  },
  {
   "cell_type": "code",
   "execution_count": null,
   "metadata": {},
   "outputs": [],
   "source": []
  }
 ],
 "metadata": {
  "kernelspec": {
   "display_name": "Python 3",
   "language": "python",
   "name": "python3"
  },
  "language_info": {
   "codemirror_mode": {
    "name": "ipython",
    "version": 3
   },
   "file_extension": ".py",
   "mimetype": "text/x-python",
   "name": "python",
   "nbconvert_exporter": "python",
   "pygments_lexer": "ipython3",
   "version": "3.6.5"
  }
 },
 "nbformat": 4,
 "nbformat_minor": 2
}
