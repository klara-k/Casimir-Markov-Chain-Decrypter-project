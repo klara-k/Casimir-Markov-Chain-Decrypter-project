{
 "cells": [
  {
   "cell_type": "code",
   "execution_count": 23,
   "metadata": {},
   "outputs": [
    {
     "name": "stdout",
     "output_type": "stream",
     "text": [
      "26\n"
     ]
    }
   ],
   "source": [
    "from mkvdecoder import text_to_matrix as ttm\n",
    "\n",
    "\n",
    "print(len(ttm('AB ', True)))"
   ]
  },
  {
   "cell_type": "code",
   "execution_count": 17,
   "metadata": {},
   "outputs": [
    {
     "name": "stdout",
     "output_type": "stream",
     "text": [
      "27\n"
     ]
    }
   ],
   "source": [
    "import numpy as np\n",
    "def ttm(text, normalize_and_regularize):\n",
    "    \"\"\" text_to_matrix calculates the number of times \n",
    "        (or frequency, depending on whether it is normalised or not)\n",
    "        each binary appeares in the text. Stores it in the matrix. The column \n",
    "        of the matrix (first index) corresponds to the first letter in the \n",
    "        binary.\n",
    "         \n",
    "        Parameters\n",
    "        ----------\n",
    "\t    text: string \n",
    "        is_normalised: boolean\n",
    "         \n",
    "   \t    Returns\n",
    "\t    ----------\n",
    "        np.array of size (27, 27)\n",
    "    \"\"\"\n",
    "    #initialise matrix with zeros\n",
    "    M = np.zeros((27, 27)) \n",
    "    \n",
    "    #text_good is a converted string that has all the letters in the lower case and no punctuation signs\n",
    "    text_good = ''.join(ch for ch in text.lower() if (ord('a')<=ord(ch)<=ord('z') or ch==' ')) \n",
    "    \n",
    "    #this variable counts how many binaries there are in the text\n",
    "    number_of_binaries = 0 \n",
    "        \n",
    "    #we go along the text and count binaries\n",
    "    for i in range(len(text_good)-1): \n",
    "        #this checks if we have a binary or just the ending/beginning of a word\n",
    "        if text_good[i] != ' ' and text_good[i+1] != ' ': \n",
    "            number_of_binaries += 1 \n",
    "            #add 1 in the corresponding element of the matrix when we find the binary\n",
    "            M[ord(text_good[i])-ord('a'),ord(text_good[i+1])-ord('a')] += 1 \n",
    "        # checks if this is the beginning of a word eg. ' c'    \n",
    "        elif text_good[i] == ' ' and text_good[i+1] != ' ': \n",
    "            number_of_binaries += 1 \n",
    "            M[26,ord(text_good[i+1])-ord('a')] += 1 \n",
    "        # checks if this is the end of a word eg. 'c '      \n",
    "        elif text_good[i] != ' ' and text_good[i+1] == ' ': \n",
    "            number_of_binaries += 1 \n",
    "            M[ord(text_good[i])-ord('a'),26] += 1 \n",
    "   \n",
    "    #here we normalise and regularize matrix if needed\n",
    "\n",
    "        return M \n",
    "    \n",
    "print(len(ttm('A A A A A A A', True)))"
   ]
  },
  {
   "cell_type": "code",
   "execution_count": null,
   "metadata": {},
   "outputs": [],
   "source": []
  }
 ],
 "metadata": {
  "kernelspec": {
   "display_name": "Python 3",
   "language": "python",
   "name": "python3"
  },
  "language_info": {
   "codemirror_mode": {
    "name": "ipython",
    "version": 3
   },
   "file_extension": ".py",
   "mimetype": "text/x-python",
   "name": "python",
   "nbconvert_exporter": "python",
   "pygments_lexer": "ipython3",
   "version": "3.6.6"
  }
 },
 "nbformat": 4,
 "nbformat_minor": 2
}
